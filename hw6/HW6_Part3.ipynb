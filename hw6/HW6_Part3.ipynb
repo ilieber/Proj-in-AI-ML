{
  "nbformat": 4,
  "nbformat_minor": 0,
  "metadata": {
    "colab": {
      "provenance": []
    },
    "kernelspec": {
      "name": "python3",
      "display_name": "Python 3"
    },
    "language_info": {
      "name": "python"
    }
  },
  "cells": [
    {
      "cell_type": "markdown",
      "source": [
        "# Projects in AI and ML HW6 Part 3: Recommender Systems\n"
      ],
      "metadata": {
        "id": "WzMFWBaZZFAH"
      }
    },
    {
      "cell_type": "code",
      "source": [
        "import os\n",
        "import numpy as np\n",
        "import pandas as pd\n",
        "import matplotlib.pyplot as plt\n",
        "from sklearn.metrics import mean_squared_error, mean_absolute_error\n",
        "from sklearn.model_selection import train_test_split"
      ],
      "metadata": {
        "id": "beqMgSJIvceE"
      },
      "execution_count": 1,
      "outputs": []
    },
    {
      "cell_type": "code",
      "source": [
        "dataset_dir = 'ml-100k'\n",
        "\n",
        "# Load the ratings data (u.data)\n",
        "ratings_cols = ['user_id', 'item_id', 'rating', 'timestamp']\n",
        "ratings = pd.read_csv(os.path.join(dataset_dir, 'u.data'), sep='\\t', names=ratings_cols, engine='python')\n",
        "\n",
        "# Load the movies data (u.item) to get movie titles\n",
        "movies_cols = ['movie_id', 'title'] + [f'col{i}' for i in range(22)]\n",
        "movies = pd.read_csv(os.path.join(dataset_dir, 'u.item'), sep='|', names=movies_cols, encoding='latin-1', engine='python')\n",
        "movies = movies[['movie_id', 'title']]\n"
      ],
      "metadata": {
        "id": "HuHhl4L2ZkH8"
      },
      "execution_count": 2,
      "outputs": []
    },
    {
      "cell_type": "code",
      "source": [
        "# Display first few rows of ratings and movies\n",
        "print(\"Ratings data sample:\")\n",
        "print(ratings.head())\n",
        "print(\"\\nMovies data sample:\")\n",
        "print(movies.head())\n"
      ],
      "metadata": {
        "colab": {
          "base_uri": "https://localhost:8080/"
        },
        "id": "muBJpP23ZsML",
        "outputId": "8cf00395-4e33-4bf6-8fb0-7e4542c8aaaa"
      },
      "execution_count": 3,
      "outputs": [
        {
          "output_type": "stream",
          "name": "stdout",
          "text": [
            "Ratings data sample:\n",
            "   user_id  item_id  rating  timestamp\n",
            "0      196      242       3  881250949\n",
            "1      186      302       3  891717742\n",
            "2       22      377       1  878887116\n",
            "3      244       51       2  880606923\n",
            "4      166      346       1  886397596\n",
            "\n",
            "Movies data sample:\n",
            "   movie_id              title\n",
            "0         1   Toy Story (1995)\n",
            "1         2   GoldenEye (1995)\n",
            "2         3  Four Rooms (1995)\n",
            "3         4  Get Shorty (1995)\n",
            "4         5     Copycat (1995)\n"
          ]
        }
      ]
    },
    {
      "cell_type": "code",
      "source": [
        "ratings.isnull().sum()"
      ],
      "metadata": {
        "colab": {
          "base_uri": "https://localhost:8080/",
          "height": 209
        },
        "id": "slrSAJs6Z29W",
        "outputId": "50c85229-dc0e-4f00-d0b9-04eb84659e34"
      },
      "execution_count": 4,
      "outputs": [
        {
          "output_type": "execute_result",
          "data": {
            "text/plain": [
              "user_id      0\n",
              "item_id      0\n",
              "rating       0\n",
              "timestamp    0\n",
              "dtype: int64"
            ],
            "text/html": [
              "<div>\n",
              "<style scoped>\n",
              "    .dataframe tbody tr th:only-of-type {\n",
              "        vertical-align: middle;\n",
              "    }\n",
              "\n",
              "    .dataframe tbody tr th {\n",
              "        vertical-align: top;\n",
              "    }\n",
              "\n",
              "    .dataframe thead th {\n",
              "        text-align: right;\n",
              "    }\n",
              "</style>\n",
              "<table border=\"1\" class=\"dataframe\">\n",
              "  <thead>\n",
              "    <tr style=\"text-align: right;\">\n",
              "      <th></th>\n",
              "      <th>0</th>\n",
              "    </tr>\n",
              "  </thead>\n",
              "  <tbody>\n",
              "    <tr>\n",
              "      <th>user_id</th>\n",
              "      <td>0</td>\n",
              "    </tr>\n",
              "    <tr>\n",
              "      <th>item_id</th>\n",
              "      <td>0</td>\n",
              "    </tr>\n",
              "    <tr>\n",
              "      <th>rating</th>\n",
              "      <td>0</td>\n",
              "    </tr>\n",
              "    <tr>\n",
              "      <th>timestamp</th>\n",
              "      <td>0</td>\n",
              "    </tr>\n",
              "  </tbody>\n",
              "</table>\n",
              "</div><br><label><b>dtype:</b> int64</label>"
            ]
          },
          "metadata": {},
          "execution_count": 4
        }
      ]
    },
    {
      "cell_type": "markdown",
      "source": [
        "There are no missing values."
      ],
      "metadata": {
        "id": "fmrN1ZgWZ6ye"
      }
    },
    {
      "cell_type": "code",
      "source": [
        "ratings['rating'].describe()"
      ],
      "metadata": {
        "colab": {
          "base_uri": "https://localhost:8080/",
          "height": 335
        },
        "id": "jkWp16CcZ-ih",
        "outputId": "252c9cf6-2f80-406e-cd4a-8e13c75ad56b"
      },
      "execution_count": 5,
      "outputs": [
        {
          "output_type": "execute_result",
          "data": {
            "text/plain": [
              "count    100000.000000\n",
              "mean          3.529860\n",
              "std           1.125674\n",
              "min           1.000000\n",
              "25%           3.000000\n",
              "50%           4.000000\n",
              "75%           4.000000\n",
              "max           5.000000\n",
              "Name: rating, dtype: float64"
            ],
            "text/html": [
              "<div>\n",
              "<style scoped>\n",
              "    .dataframe tbody tr th:only-of-type {\n",
              "        vertical-align: middle;\n",
              "    }\n",
              "\n",
              "    .dataframe tbody tr th {\n",
              "        vertical-align: top;\n",
              "    }\n",
              "\n",
              "    .dataframe thead th {\n",
              "        text-align: right;\n",
              "    }\n",
              "</style>\n",
              "<table border=\"1\" class=\"dataframe\">\n",
              "  <thead>\n",
              "    <tr style=\"text-align: right;\">\n",
              "      <th></th>\n",
              "      <th>rating</th>\n",
              "    </tr>\n",
              "  </thead>\n",
              "  <tbody>\n",
              "    <tr>\n",
              "      <th>count</th>\n",
              "      <td>100000.000000</td>\n",
              "    </tr>\n",
              "    <tr>\n",
              "      <th>mean</th>\n",
              "      <td>3.529860</td>\n",
              "    </tr>\n",
              "    <tr>\n",
              "      <th>std</th>\n",
              "      <td>1.125674</td>\n",
              "    </tr>\n",
              "    <tr>\n",
              "      <th>min</th>\n",
              "      <td>1.000000</td>\n",
              "    </tr>\n",
              "    <tr>\n",
              "      <th>25%</th>\n",
              "      <td>3.000000</td>\n",
              "    </tr>\n",
              "    <tr>\n",
              "      <th>50%</th>\n",
              "      <td>4.000000</td>\n",
              "    </tr>\n",
              "    <tr>\n",
              "      <th>75%</th>\n",
              "      <td>4.000000</td>\n",
              "    </tr>\n",
              "    <tr>\n",
              "      <th>max</th>\n",
              "      <td>5.000000</td>\n",
              "    </tr>\n",
              "  </tbody>\n",
              "</table>\n",
              "</div><br><label><b>dtype:</b> float64</label>"
            ]
          },
          "metadata": {},
          "execution_count": 5
        }
      ]
    },
    {
      "cell_type": "code",
      "source": [
        "# Plot rating distribution\n",
        "plt.figure(figsize=(8, 5))\n",
        "plt.hist(ratings['rating'], bins=np.arange(0.5, 6, 1), edgecolor='black')\n",
        "plt.xlabel(\"Rating\")\n",
        "plt.ylabel(\"Frequency\")\n",
        "plt.title(\"Distribution of Ratings\")\n",
        "plt.xticks(np.arange(1, 6))\n",
        "plt.show()"
      ],
      "metadata": {
        "colab": {
          "base_uri": "https://localhost:8080/",
          "height": 487
        },
        "id": "SHntupZmaC2d",
        "outputId": "be1cab36-5dab-45ea-c9de-2ab4a76fcef4"
      },
      "execution_count": 6,
      "outputs": [
        {
          "output_type": "display_data",
          "data": {
            "text/plain": [
              "<Figure size 800x500 with 1 Axes>"
            ],
            "image/png": "[encoded data removed]"
          },
          "metadata": {}
        }
      ]
    },
    {
      "cell_type": "code",
      "source": [
        "# Number of ratings per movie\n",
        "ratings_per_movie = ratings.groupby('item_id').size()\n",
        "plt.figure(figsize=(8, 5))\n",
        "plt.hist(ratings_per_movie, bins=50, edgecolor='black')\n",
        "plt.xlabel(\"Number of Ratings\")\n",
        "plt.ylabel(\"Number of Movies\")\n",
        "plt.title(\"Ratings per Movie\")\n",
        "plt.show()"
      ],
      "metadata": {
        "colab": {
          "base_uri": "https://localhost:8080/",
          "height": 487
        },
        "id": "DHysrYijaE4M",
        "outputId": "478b6608-8229-4ec3-a61f-ee6ca94b4b67"
      },
      "execution_count": 7,
      "outputs": [
        {
          "output_type": "display_data",
          "data": {
            "text/plain": [
              "<Figure size 800x500 with 1 Axes>"
            ],
            "image/png": "[encoded data removed]"
          },
          "metadata": {}
        }
      ]
    },
    {
      "cell_type": "code",
      "source": [
        "# Number of ratings per user\n",
        "ratings_per_user = ratings.groupby('user_id').size()\n",
        "plt.figure(figsize=(8, 5))\n",
        "plt.hist(ratings_per_user, bins=50, edgecolor='black')\n",
        "plt.xlabel(\"Number of Ratings\")\n",
        "plt.ylabel(\"Number of Users\")\n",
        "plt.title(\"Ratings per User\")\n",
        "plt.show()"
      ],
      "metadata": {
        "colab": {
          "base_uri": "https://localhost:8080/",
          "height": 487
        },
        "id": "7bV8Us2VaHLJ",
        "outputId": "dc91a471-7f37-40b1-c4e4-4492037d9879"
      },
      "execution_count": 8,
      "outputs": [
        {
          "output_type": "display_data",
          "data": {
            "text/plain": [
              "<Figure size 800x500 with 1 Axes>"
            ],
            "image/png": "[encoded data removed]"
          },
          "metadata": {}
        }
      ]
    },
    {
      "cell_type": "code",
      "source": [
        "# Create a pivot table with users as rows and movies as columns\n",
        "user_item_matrix = ratings.pivot(index='user_id', columns='item_id', values='rating').fillna(0)\n",
        "print(\"User-Item matrix shape:\", user_item_matrix.shape)\n"
      ],
      "metadata": {
        "colab": {
          "base_uri": "https://localhost:8080/"
        },
        "id": "S9mP_YV6xaUz",
        "outputId": "73744cfa-b93b-4169-c4bc-b75217a072fd"
      },
      "execution_count": 9,
      "outputs": [
        {
          "output_type": "stream",
          "name": "stdout",
          "text": [
            "User-Item matrix shape: (943, 1682)\n"
          ]
        }
      ]
    },
    {
      "cell_type": "code",
      "source": [
        "# Split ratings into train and test sets for evaluation\n",
        "train_data, test_data = train_test_split(ratings, test_size=0.2, random_state=42)\n",
        "\n",
        "# Create train user-item matrix\n",
        "train_matrix = train_data.pivot(index='user_id', columns='item_id', values='rating').fillna(0)\n",
        "\n",
        "# SVD Method\n",
        "def svd_recommendation(train_matrix, k=20):\n",
        "    R = train_matrix.values\n",
        "    U, sigma, VT = np.linalg.svd(R, full_matrices=False)\n",
        "    # Keep only top k components\n",
        "    sigma_k = np.diag(sigma[:k])\n",
        "    U_k = U[:, :k]\n",
        "    VT_k = VT[:k, :]\n",
        "    R_pred = np.dot(np.dot(U_k, sigma_k), VT_k)\n",
        "    return R_pred\n",
        "\n",
        "# Generate predictions using SVD\n",
        "svd_pred = svd_recommendation(train_matrix, k=20)\n",
        "svd_pred_df = pd.DataFrame(svd_pred, index=train_matrix.index, columns=train_matrix.columns)"
      ],
      "metadata": {
        "id": "NwGTFq3KxjoV"
      },
      "execution_count": 5,
      "outputs": []
    },
    {
      "cell_type": "code",
      "source": [
        "# ALS Method\n",
        "def als(R, k=20, lambda_reg=0.1, n_iter=10):\n",
        "    num_users, num_items = R.shape\n",
        "    W = (R > 0).astype(float)\n",
        "\n",
        "    # Initialize latent factor matrices with random values\n",
        "    U = np.random.rand(num_users, k)\n",
        "    I = np.random.rand(num_items, k)\n",
        "\n",
        "    for iteration in range(n_iter):\n",
        "        for u in range(num_users):\n",
        "            idx = W[u, :] > 0\n",
        "            I_i = I[idx, :]\n",
        "            R_u = R[u, idx]\n",
        "            if I_i.shape[0] == 0:\n",
        "                continue\n",
        "            A = I_i.T.dot(I_i) + lambda_reg * np.eye(k)\n",
        "            V = I_i.T.dot(R_u)\n",
        "            U[u, :] = np.linalg.solve(A, V)\n",
        "        for i in range(num_items):\n",
        "            idx = W[:, i] > 0\n",
        "            U_u = U[idx, :]\n",
        "            R_i = R[idx, i]\n",
        "            if U_u.shape[0] == 0:\n",
        "                continue\n",
        "            A = U_u.T.dot(U_u) + lambda_reg * np.eye(k)\n",
        "            V = U_u.T.dot(R_i)\n",
        "            I[i, :] = np.linalg.solve(A, V)\n",
        "        if iteration % 10 == 0:\n",
        "            pred = U.dot(I.T)\n",
        "            error = np.sqrt(mean_squared_error(R[W==1], pred[W==1]))\n",
        "            print(f\"Iteration {iteration+1}/{n_iter}, Training RMSE: {error:.4f}\")\n",
        "    return U, I\n",
        "\n",
        "R_train = train_matrix.values\n",
        "als_user_factors, als_item_factors = als(R_train, k=20, lambda_reg=0.1, n_iter=40)\n",
        "als_pred = np.dot(als_user_factors, als_item_factors.T)\n",
        "als_pred_df = pd.DataFrame(als_pred, index=train_matrix.index, columns=train_matrix.columns)\n"
      ],
      "metadata": {
        "colab": {
          "base_uri": "https://localhost:8080/"
        },
        "id": "-2A4NHCcxoaH",
        "outputId": "68dc6097-8086-4ed0-da0c-09bbb64820f4"
      },
      "execution_count": 6,
      "outputs": [
        {
          "output_type": "stream",
          "name": "stdout",
          "text": [
            "Iteration 1/40, Training RMSE: 0.7153\n",
            "Iteration 11/40, Training RMSE: 0.5008\n",
            "Iteration 21/40, Training RMSE: 0.4835\n",
            "Iteration 31/40, Training RMSE: 0.4757\n"
          ]
        }
      ]
    },
    {
      "cell_type": "code",
      "source": [
        "def evaluate_model(pred_df, test_data):\n",
        "    y_true = []\n",
        "    y_pred = []\n",
        "\n",
        "    for row in test_data.itertuples():\n",
        "        user = row.user_id\n",
        "        item = row.item_id\n",
        "        true_rating = row.rating\n",
        "\n",
        "        # Check if user and item exist in the prediction DataFrame\n",
        "        if user in pred_df.index and item in pred_df.columns:\n",
        "            y_true.append(true_rating)\n",
        "            y_pred.append(pred_df.loc[user, item])\n",
        "\n",
        "    rmse = np.sqrt(mean_squared_error(y_true, y_pred))\n",
        "    mae = mean_absolute_error(y_true, y_pred)\n",
        "    return rmse, mae\n",
        "\n",
        "# Evaluate SVD model\n",
        "svd_rmse, svd_mae = evaluate_model(svd_pred_df, test_data)\n",
        "print(f\"SVD Model:  RMSE: {svd_rmse:.4f}, MAE: {svd_mae:.4f}\")\n",
        "\n",
        "# Evaluate ALS model\n",
        "als_rmse, als_mae = evaluate_model(als_pred_df, test_data)\n",
        "print(f\"ALS Model:  RMSE: {als_rmse:.4f}, MAE: {als_mae:.4f}\")"
      ],
      "metadata": {
        "colab": {
          "base_uri": "https://localhost:8080/"
        },
        "id": "HGdoN3E2xrV3",
        "outputId": "486f81e6-3f51-4068-90af-8bb9c93301d3"
      },
      "execution_count": 8,
      "outputs": [
        {
          "output_type": "stream",
          "name": "stdout",
          "text": [
            "SVD Model:  RMSE: 2.6429, MAE: 2.3731\n",
            "ALS Model:  RMSE: 1.4947, MAE: 1.0824\n"
          ]
        }
      ]
    },
    {
      "cell_type": "markdown",
      "source": [
        "I used Root Mean Squared Error and Mean Absolute Error to evaluate this model. The SVD Model produced a RMSE of 2.6429 and MAE of 2.3731 wherewas the aLS model had an RMSE of 1.4947 and MAE of 1.0824. From this, we can see that the ALS model is more accurate than the SVD model (at least in this test). Its iterative latent factor updates are more effecitvely able to capture user preferences."
      ],
      "metadata": {
        "id": "AE65mJjZakLN"
      }
    }
  ]
}