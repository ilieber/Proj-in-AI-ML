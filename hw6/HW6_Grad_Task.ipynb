{
  "nbformat": 4,
  "nbformat_minor": 0,
  "metadata": {
    "colab": {
      "provenance": []
    },
    "kernelspec": {
      "name": "python3",
      "display_name": "Python 3"
    },
    "language_info": {
      "name": "python"
    }
  },
  "cells": [
    {
      "cell_type": "markdown",
      "source": [
        "# Projects in AI and ML HW6 Task 4 (Grad Task)"
      ],
      "metadata": {
        "id": "p8Hdic1vWWvA"
      }
    },
    {
      "cell_type": "markdown",
      "source": [
        "Implement the game of tic-tac-toe (write a class that implements an agent\n",
        "playing Tic Tac Toe and learning its Q function) using the Q-learning technique (see the\n",
        "resources/links provided in class for more details). Clearly describe your evaluation metric and\n",
        "demonstrate a few runs. You might need to use some online resources to proceed with this. Do\n",
        "not forget to cite those.\n",
        "\n",
        "https://towardsdatascience.com/reinforcement-learning-q-learning-with-illegal-actions-from-scratch-19759146c8bf/"
      ],
      "metadata": {
        "id": "2S4hs2HbXzfz"
      }
    },
    {
      "cell_type": "code",
      "source": [
        "import numpy as np\n",
        "import matplotlib.pyplot as plt\n",
        "import seaborn as sns"
      ],
      "metadata": {
        "id": "PhaZwFwasiGC"
      },
      "execution_count": 2,
      "outputs": []
    },
    {
      "cell_type": "code",
      "source": [
        "# define the locations\n",
        "actionNames = {\n",
        "    0: \"(0, 0) Upper Left\",\n",
        "    1: \"(1, 0) Upper Center\",\n",
        "    2: \"(2, 0) Upper Right\",\n",
        "    3: \"(0, 1) Middle Left\",\n",
        "    4: \"(1, 1) Middle Center\",\n",
        "    5: \"(2, 1) Middle Right\",\n",
        "    6: \"(0, 2) Lower Left\",\n",
        "    7: \"(1, 2) Lower Center\",\n",
        "    8: \"(2, 2) Lower Right\",\n",
        "}\n",
        "\n",
        "actions = actionNames.keys()"
      ],
      "metadata": {
        "id": "zeJNBmPpsh5E"
      },
      "execution_count": 3,
      "outputs": []
    },
    {
      "cell_type": "code",
      "source": [
        "# Draw the board\n",
        "def drawBoard(board, saveName=None):\n",
        "    labelMap = np.vectorize(lambda value: {1:\"X\", -1:\"0\", 0:\" \"}[value])\n",
        "    shapedBoard = np.reshape(board, (3, 3))\n",
        "    labels = labelMap(shapedBoard)\n",
        "    sns.heatmap(shapedBoard, cmap=\"bwr\", annot=labels,\n",
        "        linewidth=.5, linecolor=\"black\", fmt=\"\", cbar=False,\n",
        "        square=True, xticklabels=False, yticklabels=False, vmin=-1, vmax=1)\n",
        "    if saveName:\n",
        "        plt.savefig(f\"figs/{saveName}\")\n",
        "\n",
        "#Testing\n",
        "drawBoard([1, 1, 1, 0, -1, 0, -1, 1, 0])"
      ],
      "metadata": {
        "colab": {
          "base_uri": "https://localhost:8080/",
          "height": 406
        },
        "id": "ZZp9SWDbsnbn",
        "outputId": "1388e100-83fd-4015-b8cf-9845935ed60a"
      },
      "execution_count": 4,
      "outputs": [
        {
          "output_type": "display_data",
          "data": {
            "text/plain": [
              "<Figure size 640x480 with 1 Axes>"
            ],
            "image/png": "[encoded data removed]"
          },
          "metadata": {}
        }
      ]
    },
    {
      "cell_type": "code",
      "source": [
        "boardToState = {}\n",
        "\n",
        "class GameStateNode():\n",
        "    def __init__(self):\n",
        "        #self.winner is who won, X or O, else is None if draw or not leaf node\n",
        "        self.winner = 0\n",
        "        self.children = {}\n",
        "        #The board representation as an array of 9 positions\n",
        "        self.board = None\n",
        "\n",
        "#There are only 8 win cases, defining them here\n",
        "winMasks = np.array([\n",
        "    [1, 1, 1, 0, 0, 0, 0, 0, 0], #Horizontal wins\n",
        "    [0, 0, 0, 1, 1, 1, 0, 0, 0],\n",
        "    [0, 0, 0, 0, 0, 0, 1, 1, 1],\n",
        "    [1, 0, 0, 1, 0, 0, 1, 0, 0], #Vertical Wins\n",
        "    [0, 1, 0, 0, 1, 0, 0, 1, 0],\n",
        "    [0, 0, 1, 0, 0, 1, 0, 0, 1],\n",
        "    [1, 0, 0, 0, 1, 0, 0, 0, 1], #Diagonal wins\n",
        "    [0, 0, 1, 0, 1, 0, 1, 0, 0]\n",
        "])\n",
        "\n",
        "def win(board):\n",
        "    for winMask in winMasks:\n",
        "        maskedSum = np.sum(winMask*board)\n",
        "        if maskedSum == 3:\n",
        "            return 1\n",
        "        elif maskedSum == -3:\n",
        "            return -1\n",
        "    return 0\n",
        "\n",
        "\n",
        "def buildGameTree(node, board, player):\n",
        "    node.winner = win(board)\n",
        "    if node.winner:\n",
        "        return\n",
        "    for action in actions:\n",
        "        if board[action] == 0:  #if move is legal\n",
        "            newBoard = np.copy(board)\n",
        "            newBoard[action] = player\n",
        "            newBoard.flags.writeable = False\n",
        "            # Reuse trees for states we've already seen\n",
        "            if newBoard.tobytes() in boardToState:\n",
        "                newNode = boardToState[newBoard.tobytes()]\n",
        "            # Create new tree if we have not seen it\n",
        "            else:\n",
        "                newNode = GameStateNode()\n",
        "                newNode.board = newBoard\n",
        "                buildGameTree(newNode, newBoard, -player)\n",
        "                boardToState[newBoard.tobytes()] = newNode\n",
        "            node.children[action] = newNode"
      ],
      "metadata": {
        "id": "0vBqujoTssW9"
      },
      "execution_count": 5,
      "outputs": []
    },
    {
      "cell_type": "code",
      "source": [
        "root = GameStateNode()\n",
        "emptyBoard = np.array([0, 0, 0, 0, 0, 0, 0, 0, 0])\n",
        "boardToState[emptyBoard.tobytes()] = root\n",
        "root.board = emptyBoard\n",
        "buildGameTree(root, emptyBoard, 1)\n",
        "len(boardToState)"
      ],
      "metadata": {
        "colab": {
          "base_uri": "https://localhost:8080/"
        },
        "id": "MA3qKAebsudU",
        "outputId": "a64f7a3b-f698-4a21-a42d-1d08ef28a3b4"
      },
      "execution_count": 6,
      "outputs": [
        {
          "output_type": "execute_result",
          "data": {
            "text/plain": [
              "5478"
            ]
          },
          "metadata": {},
          "execution_count": 6
        }
      ]
    },
    {
      "cell_type": "code",
      "source": [
        "# Map board states to Q-Table indices\n",
        "boardToQIndex = {b:i for i, (b, _) in enumerate(boardToState.items())}\n",
        "qTable = None\n",
        "\n",
        "def initQTable():\n",
        "    global qTable\n",
        "    #create Q-Table full of NaNs with shape numStates x numActions\n",
        "    qTable = np.full((len(boardToQIndex), len(actions)), np.nan)\n",
        "\n",
        "    #fill legal Q-table actions with 0s\n",
        "    for board, state in boardToState.items():\n",
        "        for action, _ in state.children.items():\n",
        "            qTable[boardToQIndex[board], action] = 0\n",
        "\n",
        "initQTable()\n",
        "print(qTable[-10:, :])"
      ],
      "metadata": {
        "colab": {
          "base_uri": "https://localhost:8080/"
        },
        "id": "Wax5XhCPs0QB",
        "outputId": "351b0cd5-c990-481c-f31d-cc80bbb107b3"
      },
      "execution_count": 8,
      "outputs": [
        {
          "output_type": "stream",
          "name": "stdout",
          "text": [
            "[[ 0.  0.  0.  0.  0.  0.  0. nan  0.]\n",
            " [nan  0.  0.  0.  0.  0.  0.  0. nan]\n",
            " [ 0. nan  0.  0.  0.  0.  0.  0. nan]\n",
            " [ 0.  0. nan  0.  0.  0.  0.  0. nan]\n",
            " [ 0.  0.  0. nan  0.  0.  0.  0. nan]\n",
            " [ 0.  0.  0.  0. nan  0.  0.  0. nan]\n",
            " [ 0.  0.  0.  0.  0. nan  0.  0. nan]\n",
            " [ 0.  0.  0.  0.  0.  0. nan  0. nan]\n",
            " [ 0.  0.  0.  0.  0.  0.  0. nan nan]\n",
            " [ 0.  0.  0.  0.  0.  0.  0.  0. nan]]\n"
          ]
        }
      ]
    },
    {
      "cell_type": "code",
      "source": [
        "#Hyperparameters:\n",
        "learningRate = 0.1\n",
        "discountFactor = 0.9\n",
        "epsilon = 0.2\n",
        "\n",
        "#Run the agent for a number of episodes\n",
        "def run(numEpisodes, training = True, saveGames = False):\n",
        "    global qTable\n",
        "    player = 1\n",
        "    winner = []\n",
        "    if training:\n",
        "        initQTable()\n",
        "    savedGames = None\n",
        "    if saveGames:\n",
        "        savedGames = []\n",
        "    for episode in range(numEpisodes):\n",
        "        player = -player\n",
        "        if episode % 1000 == 0:\n",
        "            print(episode, end=\" \")\n",
        "        curState = root\n",
        "        if saveGames:\n",
        "            savedGame = [curState.board]\n",
        "        if player == -1:\n",
        "            curState = np.random.choice(list(curState.children.values()))\n",
        "            if saveGames:\n",
        "                savedGame.append(curState.board)\n",
        "\n",
        "        while True:\n",
        "            #RL Agent's Turn\n",
        "            # Select action based on Exploration vs Exploitation\n",
        "            # Exploration, choose random action\n",
        "            # Exploitation, choose based on best Q-Value\n",
        "            if training and np.random.uniform() < epsilon:\n",
        "                action = np.random.choice(list(curState.children.keys()))\n",
        "            else:\n",
        "                action = np.nanargmax(qTable[boardToQIndex[curState.board.tobytes()], :])\n",
        "            #Update Q-Table\n",
        "            nextState = curState.children[action]\n",
        "            if training:\n",
        "                Qsa = qTable[boardToQIndex[curState.board.tobytes()], action]\n",
        "                # Hitting a win state\n",
        "                if len(nextState.children) == 0:\n",
        "                    reward = 0.1 if nextState.winner == 0 else nextState.winner*player\n",
        "                    newQsa = Qsa + learningRate*(reward - Qsa)\n",
        "                    qTable[boardToQIndex[curState.board.tobytes()], action] = newQsa #Update our Q-table\n",
        "                    winner.append((\"RL\", player, 0 if nextState.winner == 0 else player))\n",
        "                    break\n",
        "                else:\n",
        "                    futureValues = set()\n",
        "                    for _, state in nextState.children.items():\n",
        "                        if len(state.children) == 0:\n",
        "                            futureValues.add(0)\n",
        "                        else:\n",
        "                            futureValue = np.nanmax(qTable[boardToQIndex[state.board.tobytes()], :])\n",
        "                            futureValues.add(futureValue)\n",
        "                    optimalFutureValue = max(futureValues)\n",
        "                    newQsa = Qsa + learningRate*(discountFactor*optimalFutureValue - Qsa)\n",
        "                    qTable[boardToQIndex[curState.board.tobytes()], action] = newQsa #Update our Q-table\n",
        "            else:\n",
        "                if saveGames:\n",
        "                    savedGame.append(nextState.board)\n",
        "                if len(nextState.children) == 0:\n",
        "                    if saveGames:\n",
        "                        savedGames.append(savedGame)\n",
        "                    winner.append((\"RL\", player, 0 if nextState.winner == 0 else player))\n",
        "                    break\n",
        "\n",
        "            curState = nextState\n",
        "\n",
        "            #Random Agents turn\n",
        "            curState = np.random.choice(list(curState.children.values()))\n",
        "            if saveGames:\n",
        "                savedGame.append(curState.board)\n",
        "            if len(curState.children) == 0:\n",
        "                if saveGames:\n",
        "                    savedGames.append(savedGame)\n",
        "                winner.append((\"Rand\", -player, 0 if curState.winner == 0 else -player))\n",
        "                break\n",
        "    print(\"\\n\")\n",
        "    return winner, savedGames"
      ],
      "metadata": {
        "id": "wXZ1tfaFs00O"
      },
      "execution_count": 9,
      "outputs": []
    },
    {
      "cell_type": "code",
      "source": [
        "trainingEpisodes = 250000\n",
        "testingEpisodes = 5000\n",
        "trainingWinners, _ = run(trainingEpisodes)\n",
        "testingWinners, _ = run(testingEpisodes, False)"
      ],
      "metadata": {
        "colab": {
          "base_uri": "https://localhost:8080/"
        },
        "id": "wHQSfCTks6GU",
        "outputId": "82784505-46e0-4a29-af59-5a2b2558cb99"
      },
      "execution_count": 10,
      "outputs": [
        {
          "output_type": "stream",
          "name": "stdout",
          "text": [
            "0 1000 2000 3000 4000 5000 6000 7000 8000 9000 10000 11000 12000 13000 14000 15000 16000 17000 18000 19000 20000 21000 22000 23000 24000 25000 26000 27000 28000 29000 30000 31000 32000 33000 34000 35000 36000 37000 38000 39000 40000 41000 42000 43000 44000 45000 46000 47000 48000 49000 50000 51000 52000 53000 54000 55000 56000 57000 58000 59000 60000 61000 62000 63000 64000 65000 66000 67000 68000 69000 70000 71000 72000 73000 74000 75000 76000 77000 78000 79000 80000 81000 82000 83000 84000 85000 86000 87000 88000 89000 90000 91000 92000 93000 94000 95000 96000 97000 98000 99000 100000 101000 102000 103000 104000 105000 106000 107000 108000 109000 110000 111000 112000 113000 114000 115000 116000 117000 118000 119000 120000 121000 122000 123000 124000 125000 126000 127000 128000 129000 130000 131000 132000 133000 134000 135000 136000 137000 138000 139000 140000 141000 142000 143000 144000 145000 146000 147000 148000 149000 150000 151000 152000 153000 154000 155000 156000 157000 158000 159000 160000 161000 162000 163000 164000 165000 166000 167000 168000 169000 170000 171000 172000 173000 174000 175000 176000 177000 178000 179000 180000 181000 182000 183000 184000 185000 186000 187000 188000 189000 190000 191000 192000 193000 194000 195000 196000 197000 198000 199000 200000 201000 202000 203000 204000 205000 206000 207000 208000 209000 210000 211000 212000 213000 214000 215000 216000 217000 218000 219000 220000 221000 222000 223000 224000 225000 226000 227000 228000 229000 230000 231000 232000 233000 234000 235000 236000 237000 238000 239000 240000 241000 242000 243000 244000 245000 246000 247000 248000 249000 \n",
            "\n",
            "0 1000 2000 3000 4000 \n",
            "\n"
          ]
        }
      ]
    },
    {
      "cell_type": "code",
      "source": [
        "import matplotlib.pyplot as plt\n",
        "\n",
        "window = 1000\n",
        "\n",
        "average = []\n",
        "for start in range(0, trainingEpisodes, window):\n",
        "    count = 0\n",
        "    for (name, player, winner) in trainingWinners[start:start+window]:\n",
        "        if name == \"RL\" and winner != 0:\n",
        "            count += 1\n",
        "    average.append(count / window)\n",
        "\n",
        "plt.title(f\"Episodes Won vs Time in {window} episode window\")\n",
        "plt.xlabel(f\"{window} episodes\")\n",
        "plt.ylabel(f\"% Of games won by RL agent\")\n",
        "plt.plot(average)"
      ],
      "metadata": {
        "colab": {
          "base_uri": "https://localhost:8080/",
          "height": 489
        },
        "id": "H6gY45dds9-G",
        "outputId": "fda83daf-f1f7-4266-ff49-d98883a1cb96"
      },
      "execution_count": 11,
      "outputs": [
        {
          "output_type": "execute_result",
          "data": {
            "text/plain": [
              "[<matplotlib.lines.Line2D at 0x7c9c4f2d0290>]"
            ]
          },
          "metadata": {},
          "execution_count": 11
        },
        {
          "output_type": "display_data",
          "data": {
            "text/plain": [
              "<Figure size 640x480 with 1 Axes>"
            ],
            "image/png": "[encoded data removed]"
          },
          "metadata": {}
        }
      ]
    },
    {
      "cell_type": "markdown",
      "source": [
        "We can see from above that the percentage of games won by the RL agent increases with the increase of episodes, showing it is learning."
      ],
      "metadata": {
        "id": "DZYFNMiJYOhd"
      }
    },
    {
      "cell_type": "code",
      "source": [
        "np.set_printoptions(2, suppress=True)\n",
        "print(\"End of Q-Table\")\n",
        "print(qTable[-15:,:])\n",
        "print(\"===============\")\n",
        "print(\"Start of Q-Table\")\n",
        "print(qTable[:15,:])"
      ],
      "metadata": {
        "colab": {
          "base_uri": "https://localhost:8080/"
        },
        "id": "9aWsdniCtAq1",
        "outputId": "57d3f475-7cdb-47c3-a2bf-87d1d55ac166"
      },
      "execution_count": 12,
      "outputs": [
        {
          "output_type": "stream",
          "name": "stdout",
          "text": [
            "End of Q-Table\n",
            "[[0.81 0.17 0.02 0.06 0.04  nan 0.03  nan  nan]\n",
            " [0.81 0.49 0.34 0.08 0.14  nan 0.2   nan 0.26]\n",
            " [0.9  0.16 0.   0.05 0.27 0.03  nan  nan  nan]\n",
            " [0.81 0.35 0.37 0.08 0.13 0.05  nan  nan 0.2 ]\n",
            " [0.81 0.28 0.17 0.08 0.15 0.05 0.14  nan  nan]\n",
            " [0.81 0.81 0.81 0.81 0.81 0.73 0.81  nan 0.81]\n",
            " [ nan 0.72 0.14 0.07 0.03 0.19 0.01 0.18  nan]\n",
            " [0.9   nan 0.19 0.23 0.17 0.24 0.2  0.24  nan]\n",
            " [0.9  0.2   nan 0.16 0.24 0.16 0.2  0.13  nan]\n",
            " [0.9  0.31 0.18  nan 0.17 0.19 0.1  0.11  nan]\n",
            " [0.81 0.3  0.26 0.24  nan 0.14 0.1  0.1   nan]\n",
            " [0.9  0.16 0.28 0.15 0.28  nan 0.08 0.07  nan]\n",
            " [0.9  0.25 0.16 0.04 0.19 0.18  nan 0.18  nan]\n",
            " [0.9  0.29 0.2  0.13 0.21 0.21 0.22  nan  nan]\n",
            " [0.81 0.81 0.81 0.81 0.73 0.73 0.81 0.81  nan]]\n",
            "===============\n",
            "Start of Q-Table\n",
            "[[0.81 0.81 0.81 0.73 0.81 0.73 0.81 0.79 0.81]\n",
            " [ nan  nan  nan  nan  nan  nan  nan  nan  nan]\n",
            " [ nan  nan  nan  nan  nan  nan  nan  nan  nan]\n",
            " [ nan  nan  nan  nan  nan  nan  nan  nan 1.  ]\n",
            " [ nan  nan  nan  nan  nan  nan  nan  nan  nan]\n",
            " [ nan  nan  nan  nan  nan  nan 1.    nan  nan]\n",
            " [ nan  nan  nan  nan  nan  nan 0.    nan 0.  ]\n",
            " [ nan  nan  nan  nan  nan  nan  nan  nan  nan]\n",
            " [ nan  nan  nan  nan  nan  nan 1.   0.43 0.47]\n",
            " [ nan  nan  nan  nan  nan  nan  nan  nan  nan]\n",
            " [ nan  nan  nan  nan  nan  nan  nan  nan 1.  ]\n",
            " [ nan  nan  nan  nan  nan  nan  nan  nan  nan]\n",
            " [ nan  nan  nan  nan  nan  nan  nan 0.1   nan]\n",
            " [ nan  nan  nan  nan  nan  nan  nan 0.   0.  ]\n",
            " [ nan  nan  nan  nan  nan 0.1   nan  nan  nan]]\n"
          ]
        }
      ]
    },
    {
      "cell_type": "markdown",
      "source": [
        "The above code visualizes the Q table."
      ],
      "metadata": {
        "id": "Bl9R64HfYeYS"
      }
    },
    {
      "cell_type": "code",
      "source": [
        "def evaluate(winners, numEpisodes):\n",
        "    drawRL = winners.count((\"RL\", 1, 0)) + winners.count((\"Rand\", -1, 0))\n",
        "    drawRand = winners.count((\"RL\", -1, 0)) + winners.count((\"Rand\", 1, 0))\n",
        "    draws = drawRL + drawRand\n",
        "    print(f\"Draws: {draws} ({(draws)/numEpisodes*100:.2f}%)\")\n",
        "    print(f\"\\tRL Draws as X: {drawRL} ({(drawRL)/numEpisodes*100:.2f}%)\")\n",
        "    print(f\"\\tRL Draws as O: {drawRand} ({(drawRand)/numEpisodes*100:.2f}%)\")\n",
        "    rlx = winners.count((\"RL\", 1, 1))\n",
        "    rlo = winners.count((\"RL\", -1, -1))\n",
        "    print(f\"RL Wins: {rlx + rlo} ({(rlx + rlo)/numEpisodes*100:.2f}%)\")\n",
        "    print(f\"\\tRL Wins as X: {rlx} ({rlx/numEpisodes*100:.2f}%)\")\n",
        "    print(f\"\\tRL Wins as O: {rlo} ({rlo/numEpisodes*100:.2f}%)\")\n",
        "    rx = winners.count((\"Rand\", 1, 1))\n",
        "    ro = winners.count((\"Rand\", -1, -1))\n",
        "    print(f\"Rand Wins: {rx + ro} ({(rx + ro)/numEpisodes*100:.2f}%)\")\n",
        "    print(f\"\\tRand Wins as X: {rx} ({rx/numEpisodes*100:.2f}%)\")\n",
        "    print(f\"\\tRand Wins as O: {ro} ({ro/numEpisodes*100:.2f}%)\")\n",
        "\n",
        "print(\"During Training (With 20% random actions):\")\n",
        "evaluate(trainingWinners, trainingEpisodes)\n",
        "print(\"Testing (After training, Always selecting best action):\")\n",
        "evaluate(testingWinners, testingEpisodes)"
      ],
      "metadata": {
        "colab": {
          "base_uri": "https://localhost:8080/"
        },
        "id": "Vn1_hKSjtDwp",
        "outputId": "4a2fc782-9e4e-4225-b34a-3c5a6ece8407"
      },
      "execution_count": 13,
      "outputs": [
        {
          "output_type": "stream",
          "name": "stdout",
          "text": [
            "During Training (With 20% random actions):\n",
            "Draws: 11115 (4.45%)\n",
            "\tRL Draws as X: 6076 (2.43%)\n",
            "\tRL Draws as O: 5039 (2.02%)\n",
            "RL Wins: 175520 (70.21%)\n",
            "\tRL Wins as X: 102903 (41.16%)\n",
            "\tRL Wins as O: 72617 (29.05%)\n",
            "Rand Wins: 63365 (25.35%)\n",
            "\tRand Wins as X: 47344 (18.94%)\n",
            "\tRand Wins as O: 16021 (6.41%)\n",
            "Testing (After training, Always selecting best action):\n",
            "Draws: 112 (2.24%)\n",
            "\tRL Draws as X: 91 (1.82%)\n",
            "\tRL Draws as O: 21 (0.42%)\n",
            "RL Wins: 4224 (84.48%)\n",
            "\tRL Wins as X: 2287 (45.74%)\n",
            "\tRL Wins as O: 1937 (38.74%)\n",
            "Rand Wins: 664 (13.28%)\n",
            "\tRand Wins as X: 542 (10.84%)\n",
            "\tRand Wins as O: 122 (2.44%)\n"
          ]
        }
      ]
    },
    {
      "cell_type": "markdown",
      "source": [
        "The above shows the evaluation of running the game. Its performance is seen as percentage of wins. It can be seen that the RL agent wins the majority of the time."
      ],
      "metadata": {
        "id": "oPGrKBVfYk_Q"
      }
    }
  ]
}