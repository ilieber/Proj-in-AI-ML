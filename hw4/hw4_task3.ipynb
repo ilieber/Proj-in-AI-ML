{
  "nbformat": 4,
  "nbformat_minor": 0,
  "metadata": {
    "colab": {
      "provenance": []
    },
    "kernelspec": {
      "name": "python3",
      "display_name": "Python 3"
    },
    "language_info": {
      "name": "python"
    }
  },
  "cells": [
    {
      "cell_type": "markdown",
      "source": [
        "#Projects in AI and ML HW4 Task 3"
      ],
      "metadata": {
        "id": "RadlvHeLhb2j"
      }
    },
    {
      "cell_type": "markdown",
      "source": [
        "## Part 1: Implementing Word Embeddings"
      ],
      "metadata": {
        "id": "4v1TDqi8hgWQ"
      }
    },
    {
      "cell_type": "markdown",
      "source": [
        "I chose to use Word2Vec as my embedding model. Word2Vec is predictive and it tries to predict the correct target word from its context words based on word vector representations. However, GloVe is count-based. FastText is an improved version of Word2Vec. I chose to use Word2Vec for ease of implementation."
      ],
      "metadata": {
        "id": "Q9j2hjuSmLt_"
      }
    },
    {
      "cell_type": "code",
      "source": [
        "!pip install gensim\n",
        "\n",
        "import gensim.downloader as api\n",
        "import numpy as np\n",
        "\n",
        "# Load pre-trained Word2Vec model\n",
        "try:\n",
        "    model = api.load(\"word2vec-google-news-300\")\n",
        "except Exception as e:\n",
        "    print(f\"Error loading the model: {e}\")\n",
        "    print(\"Trying to download the model...\")\n",
        "    model = api.load(\"word2vec-google-news-300\")\n",
        "\n",
        "\n",
        "def get_word_embedding(word):\n",
        "    \"\"\"\n",
        "    Retrieves the word embedding for a given word.\n",
        "    Handles Out-of-Vocabulary (OOV) words.\n",
        "    \"\"\"\n",
        "    try:\n",
        "        embedding = model[word]\n",
        "        return embedding\n",
        "    except KeyError:\n",
        "        print(f\"Word '{word}' not found in the vocabulary.\")\n",
        "        # OOV handling:\n",
        "        # 1. Return a zero vector:\n",
        "        # return np.zeros(model.vector_size)\n",
        "        # 2. Suggest similar words (if available):\n",
        "        similar_words = model.most_similar(positive=[word], topn=5)\n",
        "        if similar_words:\n",
        "            print(\"Similar words:\", similar_words)\n",
        "            closest_word = similar_words[0][0]\n",
        "            print(f\"Using the embedding for the most similar word: {closest_word}\")\n",
        "            return model[closest_word]\n",
        "        else:\n",
        "            print(\"No similar words found. Returning a zero vector.\")\n",
        "            return np.zeros(model.vector_size)\n",
        "\n",
        "while True:\n",
        "    word1 = input(\"Enter the first word (or type 'exit' to quit): \")\n",
        "    if word1.lower() == 'exit':\n",
        "        break\n",
        "\n",
        "    word2 = input(\"Enter the second word: \")\n",
        "    if word2.lower() == 'exit':\n",
        "        break\n",
        "\n",
        "    embedding1 = get_word_embedding(word1)\n",
        "    embedding2 = get_word_embedding(word2)\n",
        "\n",
        "    if embedding1 is not None and embedding2 is not None:\n",
        "        print(f\"Embedding for '{word1}': {embedding1[:10]}...\")\n",
        "        print(f\"Embedding for '{word2}': {embedding2[:10]}...\")"
      ],
      "metadata": {
        "colab": {
          "base_uri": "https://localhost:8080/"
        },
        "id": "mIYKye10hxzc",
        "outputId": "e232f38a-709d-445d-b10e-0ac1eb98d0d8"
      },
      "execution_count": 2,
      "outputs": [
        {
          "name": "stdout",
          "output_type": "stream",
          "text": [
            "Requirement already satisfied: gensim in /usr/local/lib/python3.11/dist-packages (4.3.3)\n",
            "Requirement already satisfied: numpy<2.0,>=1.18.5 in /usr/local/lib/python3.11/dist-packages (from gensim) (1.26.4)\n",
            "Requirement already satisfied: scipy<1.14.0,>=1.7.0 in /usr/local/lib/python3.11/dist-packages (from gensim) (1.13.1)\n",
            "Requirement already satisfied: smart-open>=1.8.1 in /usr/local/lib/python3.11/dist-packages (from gensim) (7.1.0)\n",
            "Requirement already satisfied: wrapt in /usr/local/lib/python3.11/dist-packages (from smart-open>=1.8.1->gensim) (1.17.2)\n",
            "[==================================================] 100.0% 1662.8/1662.8MB downloaded\n",
            "Enter the first word (or type 'exit' to quit): dog\n",
            "Enter the second word: cat\n",
            "Embedding for 'dog': [ 0.05126953 -0.02233887 -0.17285156  0.16113281 -0.08447266  0.05737305\n",
            "  0.05859375 -0.08251953 -0.01538086 -0.06347656]...\n",
            "Embedding for 'cat': [ 0.0123291   0.20410156 -0.28515625  0.21679688  0.11816406  0.08300781\n",
            "  0.04980469 -0.00952148  0.22070312 -0.12597656]...\n",
            "Enter the first word (or type 'exit' to quit): woman\n",
            "Enter the second word: man\n",
            "Embedding for 'woman': [ 0.24316406 -0.07714844 -0.10302734 -0.10742188  0.11816406 -0.10742188\n",
            " -0.11425781  0.02563477  0.11181641  0.04858398]...\n",
            "Embedding for 'man': [ 0.32617188  0.13085938  0.03466797 -0.08300781  0.08984375 -0.04125977\n",
            " -0.19824219  0.00689697  0.14355469  0.0019455 ]...\n",
            "Enter the first word (or type 'exit' to quit): yes\n",
            "Enter the second word: yeah\n",
            "Embedding for 'yes': [ 0.11572266 -0.12988281  0.06591797  0.17578125 -0.14355469  0.06884766\n",
            "  0.04882812 -0.12695312  0.09375     0.21191406]...\n",
            "Embedding for 'yeah': [ 0.24707031 -0.0456543  -0.07666016  0.33007812  0.14160156 -0.09277344\n",
            " -0.14648438 -0.0703125   0.06982422  0.08544922]...\n",
            "Enter the first word (or type 'exit' to quit): king\n",
            "Enter the second word: queen\n",
            "Embedding for 'king': [ 0.12597656  0.02978516  0.00860596  0.13964844 -0.02563477 -0.03613281\n",
            "  0.11181641 -0.19824219  0.05126953  0.36328125]...\n",
            "Embedding for 'queen': [ 0.00524902 -0.14355469 -0.06933594  0.12353516  0.13183594 -0.08886719\n",
            " -0.07128906 -0.21679688 -0.19726562  0.05566406]...\n",
            "Enter the first word (or type 'exit' to quit): hello\n",
            "Enter the second word: hi\n",
            "Embedding for 'hello': [-0.05419922  0.01708984 -0.00527954  0.33203125 -0.25       -0.01397705\n",
            " -0.15039062 -0.265625    0.01647949  0.3828125 ]...\n",
            "Embedding for 'hi': [-0.16503906  0.20410156  0.13085938  0.28710938 -0.16894531 -0.00366211\n",
            "  0.17285156 -0.27539062 -0.03613281  0.03198242]...\n",
            "Enter the first word (or type 'exit' to quit): what\n",
            "Enter the second word: where\n",
            "Embedding for 'what': [ 0.13964844 -0.00616455  0.21484375  0.07275391 -0.16113281  0.07568359\n",
            "  0.16796875 -0.20117188  0.12597656  0.00915527]...\n",
            "Embedding for 'where': [ 0.01275635 -0.04174805  0.0534668   0.10791016 -0.01165771  0.08496094\n",
            " -0.10302734 -0.15625     0.08496094  0.13183594]...\n",
            "Enter the first word (or type 'exit' to quit): quit\n",
            "Enter the second word: quitter\n",
            "Embedding for 'quit': [ 0.09277344 -0.09033203 -0.11474609 -0.0018692  -0.07470703  0.0246582\n",
            " -0.07421875 -0.20117188  0.09033203  0.06445312]...\n",
            "Embedding for 'quitter': [-1.6250610e-03 -1.3183594e-01  2.3559570e-02  1.7480469e-01\n",
            "  3.2031250e-01  5.5468750e-01  8.4228516e-03 -2.6367188e-02\n",
            "  2.4414062e-01  3.3760071e-04]...\n",
            "Enter the first word (or type 'exit' to quit): exit\n"
          ]
        }
      ]
    },
    {
      "cell_type": "markdown",
      "source": [
        "## Part 2: Cosine Similarity Computation"
      ],
      "metadata": {
        "id": "PbgRjwKbjmW7"
      }
    },
    {
      "cell_type": "code",
      "source": [
        "import gensim.downloader as api\n",
        "import numpy as np\n",
        "from sklearn.metrics.pairwise import cosine_similarity\n",
        "from sklearn.decomposition import PCA\n",
        "import matplotlib.pyplot as plt\n",
        "\n",
        "def cosine_sim(embedding1, embedding2):\n",
        "    \"\"\"Computes cosine similarity between two word embeddings.\"\"\"\n",
        "    return cosine_similarity(embedding1.reshape(1, -1), embedding2.reshape(1, -1))[0][0]\n",
        "\n",
        "\n",
        "def process_word_pairs(word_pairs):\n",
        "    \"\"\"Processes multiple word pairs and returns their cosine similarities.\"\"\"\n",
        "    similarities = []\n",
        "    embeddings = []\n",
        "    words = []\n",
        "    for pair in word_pairs:\n",
        "        # Check if the pair has enough values before unpacking\n",
        "        if len(pair) == 2:\n",
        "            word1, word2 = pair\n",
        "            embedding1 = get_word_embedding(word1)\n",
        "            embedding2 = get_word_embedding(word2)\n",
        "            if embedding1 is not None and embedding2 is not None:\n",
        "                sim = cosine_sim(embedding1, embedding2)\n",
        "                similarities.append(sim)\n",
        "                embeddings.append(embedding1) # store first embedding for visualization\n",
        "                words.append(word1)  # Store the corresponding words\n",
        "        else:\n",
        "            print(f\"Skipping invalid pair: {pair}, it should have two words.\")\n",
        "    return similarities, embeddings, words\n",
        "\n",
        "\n",
        "while True:\n",
        "    word1 = input(\"Enter the first word (or type 'exit' to quit): \")\n",
        "    if word1.lower() == 'exit':\n",
        "        break\n",
        "\n",
        "    word2 = input(\"Enter the second word: \")\n",
        "    if word2.lower() == 'exit':\n",
        "        break\n",
        "\n",
        "    embedding1 = get_word_embedding(word1)\n",
        "    embedding2 = get_word_embedding(word2)\n",
        "\n",
        "    if embedding1 is not None and embedding2 is not None:\n",
        "        print(f\"Embedding for '{word1}': {embedding1[:10]}...\")\n",
        "        print(f\"Embedding for '{word2}': {embedding2[:10]}...\")\n",
        "        similarity = cosine_sim(embedding1, embedding2)\n",
        "        print(f\"Cosine Similarity between '{word1}' and '{word2}': {similarity}\")\n",
        "\n",
        "    # Batch processing:\n",
        "    batch_input = input(\"Enter word pairs for batch processing (e.g., 'king queen; man woman', or type 'skip'): \")\n",
        "    if batch_input.lower() == 'exit':\n",
        "      break\n",
        "    if batch_input.lower() != 'skip':\n",
        "        word_pairs = [pair.split() for pair in batch_input.split(';')]\n",
        "        similarities, embeddings, words = process_word_pairs(word_pairs)\n",
        "        for i, sim in enumerate(similarities):\n",
        "            print(f\"Cosine similarity between '{word_pairs[i][0]}' and '{word_pairs[i][1]}': {sim}\")\n",
        "\n",
        "        # Reduce dimensionality for visualization (PCA)\n",
        "        if len(embeddings) > 1: # Check if there are at least 2 embeddings for PCA\n",
        "            pca = PCA(n_components=2)  # Reduce to 2 dimensions for a 2D plot\n",
        "            embeddings_2d = pca.fit_transform(np.array(embeddings))\n",
        "\n",
        "            # Plot the embeddings\n",
        "            plt.figure(figsize=(8, 6))\n",
        "            for i, word in enumerate(words):\n",
        "                plt.scatter(embeddings_2d[i, 0], embeddings_2d[i, 1])\n",
        "                plt.annotate(word, (embeddings_2d[i, 0], embeddings_2d[i, 1]))\n",
        "\n",
        "            plt.title(\"Word Embeddings in 2D\")\n",
        "            plt.xlabel(\"Principal Component 1\")\n",
        "            plt.ylabel(\"Principal Component 2\")\n",
        "            plt.show()\n",
        "        else:\n",
        "            print(\"Not enough data points for PCA visualization. Please enter more than one word pair.\")\n",
        "\n"
      ],
      "metadata": {
        "colab": {
          "base_uri": "https://localhost:8080/",
          "height": 1000
        },
        "id": "a0-BWrqljlft",
        "outputId": "8e26d013-de79-4269-e8a8-c9df40b6ec45"
      },
      "execution_count": 3,
      "outputs": [
        {
          "output_type": "stream",
          "name": "stdout",
          "text": [
            "Enter the first word (or type 'exit' to quit): hello\n",
            "Enter the second word: hi\n",
            "Embedding for 'hello': [-0.05419922  0.01708984 -0.00527954  0.33203125 -0.25       -0.01397705\n",
            " -0.15039062 -0.265625    0.01647949  0.3828125 ]...\n",
            "Embedding for 'hi': [-0.16503906  0.20410156  0.13085938  0.28710938 -0.16894531 -0.00366211\n",
            "  0.17285156 -0.27539062 -0.03613281  0.03198242]...\n",
            "Cosine Similarity between 'hello' and 'hi': 0.654898464679718\n",
            "Enter word pairs for batch processing (e.g., 'king queen; man woman', or type 'skip'): king queen; man woman; boy girl; cat dog;\n",
            "Skipping invalid pair: [], it should have two words.\n",
            "Cosine similarity between 'king' and 'queen': 0.6510956883430481\n",
            "Cosine similarity between 'man' and 'woman': 0.7664013504981995\n",
            "Cosine similarity between 'boy' and 'girl': 0.8543272018432617\n",
            "Cosine similarity between 'cat' and 'dog': 0.760945737361908\n"
          ]
        },
        {
          "output_type": "display_data",
          "data": {
            "text/plain": [
              "<Figure size 800x600 with 1 Axes>"
            ],
            "image/png": "[encoded data removed]"
          },
          "metadata": {}
        },
        {
          "output_type": "error",
          "ename": "KeyboardInterrupt",
          "evalue": "Interrupted by user",
          "traceback": [
            "\u001b[0;31m---------------------------------------------------------------------------\u001b[0m",
            "\u001b[0;31mKeyboardInterrupt\u001b[0m                         Traceback (most recent call last)",
            "\u001b[0;32m<ipython-input-3-9621a0ac851c>\u001b[0m in \u001b[0;36m<cell line: 0>\u001b[0;34m()\u001b[0m\n\u001b[1;32m     32\u001b[0m \u001b[0;34m\u001b[0m\u001b[0m\n\u001b[1;32m     33\u001b[0m \u001b[0;32mwhile\u001b[0m \u001b[0;32mTrue\u001b[0m\u001b[0;34m:\u001b[0m\u001b[0;34m\u001b[0m\u001b[0;34m\u001b[0m\u001b[0m\n\u001b[0;32m---> 34\u001b[0;31m     \u001b[0mword1\u001b[0m \u001b[0;34m=\u001b[0m \u001b[0minput\u001b[0m\u001b[0;34m(\u001b[0m\u001b[0;34m\"Enter the first word (or type 'exit' to quit): \"\u001b[0m\u001b[0;34m)\u001b[0m\u001b[0;34m\u001b[0m\u001b[0;34m\u001b[0m\u001b[0m\n\u001b[0m\u001b[1;32m     35\u001b[0m     \u001b[0;32mif\u001b[0m \u001b[0mword1\u001b[0m\u001b[0;34m.\u001b[0m\u001b[0mlower\u001b[0m\u001b[0;34m(\u001b[0m\u001b[0;34m)\u001b[0m \u001b[0;34m==\u001b[0m \u001b[0;34m'exit'\u001b[0m\u001b[0;34m:\u001b[0m\u001b[0;34m\u001b[0m\u001b[0;34m\u001b[0m\u001b[0m\n\u001b[1;32m     36\u001b[0m         \u001b[0;32mbreak\u001b[0m\u001b[0;34m\u001b[0m\u001b[0;34m\u001b[0m\u001b[0m\n",
            "\u001b[0;32m/usr/local/lib/python3.11/dist-packages/ipykernel/kernelbase.py\u001b[0m in \u001b[0;36mraw_input\u001b[0;34m(self, prompt)\u001b[0m\n\u001b[1;32m   1175\u001b[0m                 \u001b[0;34m\"raw_input was called, but this frontend does not support input requests.\"\u001b[0m\u001b[0;34m\u001b[0m\u001b[0;34m\u001b[0m\u001b[0m\n\u001b[1;32m   1176\u001b[0m             )\n\u001b[0;32m-> 1177\u001b[0;31m         return self._input_request(\n\u001b[0m\u001b[1;32m   1178\u001b[0m             \u001b[0mstr\u001b[0m\u001b[0;34m(\u001b[0m\u001b[0mprompt\u001b[0m\u001b[0;34m)\u001b[0m\u001b[0;34m,\u001b[0m\u001b[0;34m\u001b[0m\u001b[0;34m\u001b[0m\u001b[0m\n\u001b[1;32m   1179\u001b[0m             \u001b[0mself\u001b[0m\u001b[0;34m.\u001b[0m\u001b[0m_parent_ident\u001b[0m\u001b[0;34m[\u001b[0m\u001b[0;34m\"shell\"\u001b[0m\u001b[0;34m]\u001b[0m\u001b[0;34m,\u001b[0m\u001b[0;34m\u001b[0m\u001b[0;34m\u001b[0m\u001b[0m\n",
            "\u001b[0;32m/usr/local/lib/python3.11/dist-packages/ipykernel/kernelbase.py\u001b[0m in \u001b[0;36m_input_request\u001b[0;34m(self, prompt, ident, parent, password)\u001b[0m\n\u001b[1;32m   1217\u001b[0m             \u001b[0;32mexcept\u001b[0m \u001b[0mKeyboardInterrupt\u001b[0m\u001b[0;34m:\u001b[0m\u001b[0;34m\u001b[0m\u001b[0;34m\u001b[0m\u001b[0m\n\u001b[1;32m   1218\u001b[0m                 \u001b[0;31m# re-raise KeyboardInterrupt, to truncate traceback\u001b[0m\u001b[0;34m\u001b[0m\u001b[0;34m\u001b[0m\u001b[0m\n\u001b[0;32m-> 1219\u001b[0;31m                 \u001b[0;32mraise\u001b[0m \u001b[0mKeyboardInterrupt\u001b[0m\u001b[0;34m(\u001b[0m\u001b[0;34m\"Interrupted by user\"\u001b[0m\u001b[0;34m)\u001b[0m \u001b[0;32mfrom\u001b[0m \u001b[0;32mNone\u001b[0m\u001b[0;34m\u001b[0m\u001b[0;34m\u001b[0m\u001b[0m\n\u001b[0m\u001b[1;32m   1220\u001b[0m             \u001b[0;32mexcept\u001b[0m \u001b[0mException\u001b[0m\u001b[0;34m:\u001b[0m\u001b[0;34m\u001b[0m\u001b[0;34m\u001b[0m\u001b[0m\n\u001b[1;32m   1221\u001b[0m                 \u001b[0mself\u001b[0m\u001b[0;34m.\u001b[0m\u001b[0mlog\u001b[0m\u001b[0;34m.\u001b[0m\u001b[0mwarning\u001b[0m\u001b[0;34m(\u001b[0m\u001b[0;34m\"Invalid Message:\"\u001b[0m\u001b[0;34m,\u001b[0m \u001b[0mexc_info\u001b[0m\u001b[0;34m=\u001b[0m\u001b[0;32mTrue\u001b[0m\u001b[0;34m)\u001b[0m\u001b[0;34m\u001b[0m\u001b[0;34m\u001b[0m\u001b[0m\n",
            "\u001b[0;31mKeyboardInterrupt\u001b[0m: Interrupted by user"
          ]
        }
      ]
    },
    {
      "cell_type": "markdown",
      "source": [
        "## Part 3: Designing a Novel Dissimilarity Metric"
      ],
      "metadata": {
        "id": "7RWl2qBAk2xC"
      }
    },
    {
      "cell_type": "markdown",
      "source": [
        "Cosine similarity is useful in word embedding space because it effectively captures the semantic similarity between words by focusing on the direction of vectors as opposed to their magnitudes, which makes it ideal for high-dimensional data like word embeddings, where measuring the distance might not accurately reflect semantic relationships between words."
      ],
      "metadata": {
        "id": "4s3wPrrMmz_L"
      }
    },
    {
      "cell_type": "code",
      "source": [
        "import pandas as pd\n",
        "from scipy.spatial.distance import euclidean\n",
        "import seaborn as sns\n",
        "\n",
        "def euclidean_distance(embedding1, embedding2):\n",
        "    return euclidean(embedding1, embedding2)\n",
        "\n",
        "def calculate_dissimilarity(embedding1, embedding2, metric='cosine'):\n",
        "    if metric == 'cosine':\n",
        "        return 1 - cosine_sim(embedding1, embedding2)  # Convert similarity to dissimilarity\n",
        "    elif metric == 'euclidean':\n",
        "        return euclidean_distance(embedding1, embedding2)\n",
        "    else:\n",
        "        raise ValueError(\"Invalid dissimilarity metric. Choose 'cosine' or 'euclidean'.\")\n",
        "\n",
        "while True:\n",
        "    word1 = input(\"Enter the first word (or type 'exit' to quit): \")\n",
        "    if word1.lower() == 'exit':\n",
        "        break\n",
        "\n",
        "    word2 = input(\"Enter the second word: \")\n",
        "    if word2.lower() == 'exit':\n",
        "        break\n",
        "\n",
        "    embedding1 = get_word_embedding(word1)\n",
        "    embedding2 = get_word_embedding(word2)\n",
        "    if embedding1 is not None and embedding2 is not None:\n",
        "        print(f\"Embedding for '{word1}': {embedding1[:10]}...\")\n",
        "        print(f\"Embedding for '{word2}': {embedding2[:10]}...\")\n",
        "        metric = input(\"Enter dissimilarity metric ('cosine' or 'euclidean'): \")\n",
        "        dissimilarity = calculate_dissimilarity(embedding1, embedding2, metric=metric)\n",
        "        print(f\"{metric.capitalize()} Dissimilarity between '{word1}' and '{word2}': {dissimilarity}\")\n",
        "\n",
        "    # Batch processing:\n",
        "    batch_input = input(\"Enter word pairs for batch processing (e.g., 'king queen; man woman', or type 'skip'): \")\n",
        "    if batch_input.lower() != 'skip':\n",
        "        word_pairs = [pair.split() for pair in batch_input.split(';')]\n",
        "\n",
        "        metric = input(\"Enter dissimilarity metric ('cosine' or 'euclidean'): \")\n",
        "\n",
        "        dissimilarities = []\n",
        "        embeddings = []\n",
        "        words = []\n",
        "        for word1, word2 in word_pairs:\n",
        "            embedding1 = get_word_embedding(word1)\n",
        "            embedding2 = get_word_embedding(word2)\n",
        "            if embedding1 is not None and embedding2 is not None:\n",
        "                dissimilarity = calculate_dissimilarity(embedding1, embedding2, metric=metric)\n",
        "                dissimilarities.append(dissimilarity)\n",
        "                embeddings.append(embedding1)\n",
        "                words.append(word1)\n",
        "\n",
        "        # Create a DataFrame\n",
        "        data = {'word1': [pair[0] for pair in word_pairs],\n",
        "                'word2': [pair[1] for pair in word_pairs],\n",
        "                'dissimilarity': dissimilarities}\n",
        "        df = pd.DataFrame(data)\n",
        "\n",
        "        # Create the heatmap\n",
        "        plt.figure(figsize=(8, 6))\n",
        "        sns.heatmap(df.pivot(index=\"word1\", columns=\"word2\", values=\"dissimilarity\"), annot=True, cmap=\"YlGnBu\")\n",
        "        plt.title(f\"{metric.capitalize()} Dissimilarity Heatmap\")\n",
        "        plt.show()\n",
        "\n"
      ],
      "metadata": {
        "colab": {
          "base_uri": "https://localhost:8080/",
          "height": 775
        },
        "id": "fVVmY5P4k7DR",
        "outputId": "a1084734-7b46-4962-f119-d30606d6dd4c"
      },
      "execution_count": 6,
      "outputs": [
        {
          "name": "stdout",
          "output_type": "stream",
          "text": [
            "Enter the first word (or type 'exit' to quit): hello\n",
            "Enter the second word: bye\n",
            "Embedding for 'hello': [-0.05419922  0.01708984 -0.00527954  0.33203125 -0.25       -0.01397705\n",
            " -0.15039062 -0.265625    0.01647949  0.3828125 ]...\n",
            "Embedding for 'bye': [-0.03027344  0.06542969  0.09228516 -0.24121094  0.25       -0.04248047\n",
            " -0.47851562 -0.5390625   0.08300781  0.24316406]...\n",
            "Enter dissimilarity metric ('cosine' or 'euclidean'): euclidean\n",
            "Euclidean Dissimilarity between 'hello' and 'bye': 4.174822807312012\n",
            "Enter word pairs for batch processing (e.g., 'king queen; man woman', or type 'skip'): king queen; man woman; hello bye; cat dog; yes no; cat lion; table lion\n",
            "Enter dissimilarity metric ('cosine' or 'euclidean'): euclidean\n"
          ]
        },
        {
          "output_type": "display_data",
          "data": {
            "text/plain": [
              "<Figure size 800x600 with 2 Axes>"
            ],
            "image/png": "[encoded data removed]"
          },
          "metadata": {}
        },
        {
          "name": "stdout",
          "output_type": "stream",
          "text": [
            "Enter the first word (or type 'exit' to quit): exit\n"
          ]
        }
      ]
    },
    {
      "cell_type": "markdown",
      "source": [
        "I used the Eucliedean distance as my dissimilarity metric."
      ],
      "metadata": {
        "id": "Rk3N_KWqnPVp"
      }
    },
    {
      "cell_type": "markdown",
      "source": [
        "Overall, I tested these three parts with random words."
      ],
      "metadata": {
        "id": "DJ_KzwSunfHM"
      }
    }
  ]
}